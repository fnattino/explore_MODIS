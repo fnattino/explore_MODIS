{
 "cells": [
  {
   "cell_type": "markdown",
   "id": "cf4ab9b9-143b-4fb3-b7be-1756d024cd0b",
   "metadata": {},
   "source": [
    "# Access MODIS data from a workstation"
   ]
  },
  {
   "cell_type": "markdown",
   "id": "68773b07-4b4d-4099-a465-5f0f596f8660",
   "metadata": {},
   "source": [
    "Authenticatin is carried out via [NASA Earthdata Login (EDL](https://urs.earthdata.nasa.gov), credentials are stored in the `~/.netrc` file."
   ]
  }
 ],
 "metadata": {
  "kernelspec": {
   "display_name": "Python 3 (ipykernel)",
   "language": "python",
   "name": "python3"
  },
  "language_info": {
   "codemirror_mode": {
    "name": "ipython",
    "version": 3
   },
   "file_extension": ".py",
   "mimetype": "text/x-python",
   "name": "python",
   "nbconvert_exporter": "python",
   "pygments_lexer": "ipython3",
   "version": "3.11.4"
  }
 },
 "nbformat": 4,
 "nbformat_minor": 5
}
